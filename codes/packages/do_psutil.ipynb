{
 "cells": [
  {
   "cell_type": "markdown",
   "metadata": {},
   "source": [
    "# psutil"
   ]
  },
  {
   "cell_type": "markdown",
   "metadata": {},
   "source": [
    "用Python来编写脚本简化日常的运维工作是Python的一个重要用途。在Linux下，有许多系统命令可以让我们时刻监控系统运行的状态，如ps，top，free等等。要获取这些系统信息，Python可以通过subprocess模块调用并获取结果。但这样做显得很麻烦，尤其是要写很多解析代码。\n",
    "\n",
    "在Python中获取系统信息的另一个好办法是使用psutil这个第三方模块。顾名思义，psutil = process and system utilities，它不仅可以通过一两行代码实现系统监控，还可以跨平台使用，支持Linux／UNIX／OSX／Windows等，是系统管理员和运维小伙伴不可或缺的必备模块。"
   ]
  },
  {
   "cell_type": "markdown",
   "metadata": {},
   "source": [
    "## 安装psutil"
   ]
  },
  {
   "cell_type": "markdown",
   "metadata": {},
   "source": [
    "```bash\n",
    "pip install psutil\n",
    "```"
   ]
  },
  {
   "cell_type": "markdown",
   "metadata": {},
   "source": [
    "## 获取CPU信息"
   ]
  },
  {
   "cell_type": "code",
   "execution_count": 4,
   "metadata": {},
   "outputs": [
    {
     "data": {
      "text/plain": [
       "4"
      ]
     },
     "execution_count": 4,
     "metadata": {},
     "output_type": "execute_result"
    }
   ],
   "source": [
    "import psutil\n",
    "# CPU逻辑数量\n",
    "psutil.cpu_count()"
   ]
  },
  {
   "cell_type": "code",
   "execution_count": 5,
   "metadata": {},
   "outputs": [
    {
     "data": {
      "text/plain": [
       "2"
      ]
     },
     "execution_count": 5,
     "metadata": {},
     "output_type": "execute_result"
    }
   ],
   "source": [
    "psutil.cpu_count(logical=False)"
   ]
  },
  {
   "cell_type": "code",
   "execution_count": 6,
   "metadata": {},
   "outputs": [
    {
     "data": {
      "text/plain": [
       "scputimes(user=10214.85, nice=0.0, system=5715.65, idle=62575.0)"
      ]
     },
     "execution_count": 6,
     "metadata": {},
     "output_type": "execute_result"
    }
   ],
   "source": [
    "# 统计CPU的用户／系统／空闲时间：\n",
    "psutil.cpu_times()"
   ]
  },
  {
   "cell_type": "code",
   "execution_count": 7,
   "metadata": {},
   "outputs": [
    {
     "name": "stdout",
     "output_type": "stream",
     "text": [
      "[75.2, 9.9, 74.3, 9.8]\n",
      "[57.0, 12.0, 54.5, 12.0]\n",
      "[44.4, 9.0, 40.4, 7.0]\n",
      "[79.2, 18.8, 78.0, 20.0]\n",
      "[71.0, 15.0, 63.4, 18.0]\n",
      "[40.0, 9.0, 33.0, 10.8]\n",
      "[45.5, 13.0, 42.6, 12.0]\n",
      "[56.0, 13.9, 54.5, 12.0]\n",
      "[60.4, 16.0, 56.4, 15.0]\n",
      "[66.7, 15.8, 60.6, 16.8]\n"
     ]
    }
   ],
   "source": [
    "for x in range(10):\n",
    "    print(psutil.cpu_percent(interval=1, percpu=True))"
   ]
  },
  {
   "cell_type": "markdown",
   "metadata": {},
   "source": [
    "## 获取内存信息"
   ]
  },
  {
   "cell_type": "markdown",
   "metadata": {},
   "source": [
    "使用psutil获取物理内存和交换内存信息，分别使用："
   ]
  },
  {
   "cell_type": "code",
   "execution_count": 8,
   "metadata": {},
   "outputs": [
    {
     "data": {
      "text/plain": [
       "svmem(total=8589934592, available=2367049728, percent=72.4, used=4012953600, free=150634496, active=2216681472, inactive=2199986176, wired=1796272128)"
      ]
     },
     "execution_count": 8,
     "metadata": {},
     "output_type": "execute_result"
    }
   ],
   "source": [
    "psutil.virtual_memory()"
   ]
  },
  {
   "cell_type": "code",
   "execution_count": 9,
   "metadata": {},
   "outputs": [
    {
     "data": {
      "text/plain": [
       "sswap(total=1073741824, used=89391104, free=984350720, percent=8.3, sin=27535536128, sout=262139904)"
      ]
     },
     "execution_count": 9,
     "metadata": {},
     "output_type": "execute_result"
    }
   ],
   "source": [
    "psutil.swap_memory()"
   ]
  },
  {
   "cell_type": "markdown",
   "metadata": {},
   "source": [
    "## 获取磁盘信息"
   ]
  },
  {
   "cell_type": "code",
   "execution_count": 11,
   "metadata": {},
   "outputs": [
    {
     "data": {
      "text/plain": [
       "[sdiskpart(device='/dev/disk1s5s1', mountpoint='/', fstype='apfs', opts='ro,local,rootfs,dovolfs,journaled,multilabel', maxfile=255, maxpath=1024),\n",
       " sdiskpart(device='/dev/disk1s4', mountpoint='/System/Volumes/VM', fstype='apfs', opts='rw,noexec,local,dovolfs,dontbrowse,journaled,multilabel,noatime', maxfile=255, maxpath=1024),\n",
       " sdiskpart(device='/dev/disk1s2', mountpoint='/System/Volumes/Preboot', fstype='apfs', opts='rw,local,dovolfs,dontbrowse,journaled,multilabel', maxfile=255, maxpath=1024),\n",
       " sdiskpart(device='/dev/disk1s6', mountpoint='/System/Volumes/Update', fstype='apfs', opts='rw,local,dovolfs,dontbrowse,journaled,multilabel', maxfile=255, maxpath=1024),\n",
       " sdiskpart(device='/dev/disk1s1', mountpoint='/System/Volumes/Data', fstype='apfs', opts='rw,local,dovolfs,dontbrowse,journaled,multilabel', maxfile=255, maxpath=1024)]"
      ]
     },
     "execution_count": 11,
     "metadata": {},
     "output_type": "execute_result"
    }
   ],
   "source": [
    "psutil.disk_partitions() # 磁盘分区信息"
   ]
  },
  {
   "cell_type": "code",
   "execution_count": 12,
   "metadata": {},
   "outputs": [
    {
     "data": {
      "text/plain": [
       "sdiskusage(total=121123069952, used=112301940736, free=8821129216, percent=92.7)"
      ]
     },
     "execution_count": 12,
     "metadata": {},
     "output_type": "execute_result"
    }
   ],
   "source": [
    "psutil.disk_usage('/') # 磁盘使用情况"
   ]
  },
  {
   "cell_type": "code",
   "execution_count": 13,
   "metadata": {},
   "outputs": [
    {
     "data": {
      "text/plain": [
       "sdiskio(read_count=2480923, write_count=2686576, read_bytes=27801688576, write_bytes=35970891776, read_time=748486, write_time=532826)"
      ]
     },
     "execution_count": 13,
     "metadata": {},
     "output_type": "execute_result"
    }
   ],
   "source": [
    "psutil.disk_io_counters() # 磁盘IO"
   ]
  },
  {
   "cell_type": "markdown",
   "metadata": {},
   "source": [
    "## 获取网络信息\n"
   ]
  },
  {
   "cell_type": "markdown",
   "metadata": {},
   "source": [
    "psutil可以获取网络接口和网络连接信息：\n",
    "\n"
   ]
  },
  {
   "cell_type": "code",
   "execution_count": 14,
   "metadata": {},
   "outputs": [
    {
     "data": {
      "text/plain": [
       "snetio(bytes_sent=178109440, bytes_recv=3052958720, packets_sent=661543, packets_recv=2227468, errin=0, errout=0, dropin=0, dropout=0)"
      ]
     },
     "execution_count": 14,
     "metadata": {},
     "output_type": "execute_result"
    }
   ],
   "source": [
    "psutil.net_io_counters()# 获取网络读写字节／包的个数"
   ]
  },
  {
   "cell_type": "code",
   "execution_count": 15,
   "metadata": {},
   "outputs": [
    {
     "data": {
      "text/plain": [
       "{'lo0': [snicaddr(family=<AddressFamily.AF_INET: 2>, address='127.0.0.1', netmask='255.0.0.0', broadcast=None, ptp=None),\n",
       "  snicaddr(family=<AddressFamily.AF_INET6: 30>, address='::1', netmask='ffff:ffff:ffff:ffff:ffff:ffff:ffff:ffff', broadcast=None, ptp=None),\n",
       "  snicaddr(family=<AddressFamily.AF_INET6: 30>, address='fe80::1%lo0', netmask='ffff:ffff:ffff:ffff::', broadcast=None, ptp=None)],\n",
       " 'en0': [snicaddr(family=<AddressFamily.AF_INET: 2>, address='172.20.10.2', netmask='255.255.255.240', broadcast='172.20.10.15', ptp=None),\n",
       "  snicaddr(family=<AddressFamily.AF_LINK: 18>, address='4c:32:75:99:bb:67', netmask=None, broadcast=None, ptp=None),\n",
       "  snicaddr(family=<AddressFamily.AF_INET6: 30>, address='fe80::29:5532:5d69:448d%en0', netmask='ffff:ffff:ffff:ffff::', broadcast=None, ptp=None),\n",
       "  snicaddr(family=<AddressFamily.AF_INET6: 30>, address='2408:842c:6a10:1318:14e0:907d:96e6:d75d', netmask='ffff:ffff:ffff:ffff::', broadcast=None, ptp=None),\n",
       "  snicaddr(family=<AddressFamily.AF_INET6: 30>, address='2408:842c:6a10:1318:adcd:9d60:4cd1:5e9e', netmask='ffff:ffff:ffff:ffff::', broadcast=None, ptp=None)],\n",
       " 'en1': [snicaddr(family=<AddressFamily.AF_LINK: 18>, address='82:13:20:3e:69:80', netmask=None, broadcast=None, ptp=None)],\n",
       " 'en2': [snicaddr(family=<AddressFamily.AF_LINK: 18>, address='82:13:20:3e:69:81', netmask=None, broadcast=None, ptp=None)],\n",
       " 'bridge0': [snicaddr(family=<AddressFamily.AF_LINK: 18>, address='82:13:20:3e:69:80', netmask=None, broadcast=None, ptp=None)],\n",
       " 'p2p0': [snicaddr(family=<AddressFamily.AF_LINK: 18>, address='0e:32:75:99:bb:67', netmask=None, broadcast=None, ptp=None)],\n",
       " 'awdl0': [snicaddr(family=<AddressFamily.AF_LINK: 18>, address='66:1c:5f:0b:6a:4e', netmask=None, broadcast=None, ptp=None),\n",
       "  snicaddr(family=<AddressFamily.AF_INET6: 30>, address='fe80::641c:5fff:fe0b:6a4e%awdl0', netmask='ffff:ffff:ffff:ffff::', broadcast=None, ptp=None)],\n",
       " 'llw0': [snicaddr(family=<AddressFamily.AF_LINK: 18>, address='66:1c:5f:0b:6a:4e', netmask=None, broadcast=None, ptp=None),\n",
       "  snicaddr(family=<AddressFamily.AF_INET6: 30>, address='fe80::641c:5fff:fe0b:6a4e%llw0', netmask='ffff:ffff:ffff:ffff::', broadcast=None, ptp=None)],\n",
       " 'utun0': [snicaddr(family=<AddressFamily.AF_INET6: 30>, address='fe80::d5cf:7bf8:561:b334%utun0', netmask='ffff:ffff:ffff:ffff::', broadcast=None, ptp=None)],\n",
       " 'utun1': [snicaddr(family=<AddressFamily.AF_INET6: 30>, address='fe80::fe87:4233:bafc:1bc9%utun1', netmask='ffff:ffff:ffff:ffff::', broadcast=None, ptp=None)],\n",
       " 'utun2': [snicaddr(family=<AddressFamily.AF_INET6: 30>, address='fe80::ce81:b1c:bd2c:69e%utun2', netmask='ffff:ffff:ffff:ffff::', broadcast=None, ptp=None)],\n",
       " 'utun3': [snicaddr(family=<AddressFamily.AF_INET6: 30>, address='fe80::ba52:4821:2a00:7148%utun3', netmask='ffff:ffff:ffff:ffff::', broadcast=None, ptp=None)],\n",
       " 'utun4': [snicaddr(family=<AddressFamily.AF_INET6: 30>, address='fe80::a1ed:a370:3c4f:a3d8%utun4', netmask='ffff:ffff:ffff:ffff::', broadcast=None, ptp=None)]}"
      ]
     },
     "execution_count": 15,
     "metadata": {},
     "output_type": "execute_result"
    }
   ],
   "source": [
    "psutil.net_if_addrs() # 获取网络接口信息"
   ]
  },
  {
   "cell_type": "code",
   "execution_count": 16,
   "metadata": {},
   "outputs": [
    {
     "data": {
      "text/plain": [
       "{'lo0': snicstats(isup=True, duplex=<NicDuplex.NIC_DUPLEX_UNKNOWN: 0>, speed=0, mtu=16384, flags='up,loopback,running,multicast'),\n",
       " 'gif0': snicstats(isup=False, duplex=<NicDuplex.NIC_DUPLEX_UNKNOWN: 0>, speed=0, mtu=1280, flags='pointopoint,multicast'),\n",
       " 'stf0': snicstats(isup=False, duplex=<NicDuplex.NIC_DUPLEX_UNKNOWN: 0>, speed=0, mtu=1280, flags=''),\n",
       " 'en0': snicstats(isup=True, duplex=<NicDuplex.NIC_DUPLEX_UNKNOWN: 0>, speed=0, mtu=1500, flags='up,broadcast,notrailers,running,multicast,simplex'),\n",
       " 'en1': snicstats(isup=True, duplex=<NicDuplex.NIC_DUPLEX_FULL: 2>, speed=0, mtu=1500, flags='up,broadcast,notrailers,running,promisc,multicast,simplex'),\n",
       " 'en2': snicstats(isup=True, duplex=<NicDuplex.NIC_DUPLEX_FULL: 2>, speed=0, mtu=1500, flags='up,broadcast,notrailers,running,promisc,multicast,simplex'),\n",
       " 'bridge0': snicstats(isup=False, duplex=<NicDuplex.NIC_DUPLEX_UNKNOWN: 0>, speed=0, mtu=1500, flags='broadcast,notrailers,multicast,simplex'),\n",
       " 'p2p0': snicstats(isup=True, duplex=<NicDuplex.NIC_DUPLEX_UNKNOWN: 0>, speed=0, mtu=2304, flags='up,broadcast,running,multicast,simplex'),\n",
       " 'awdl0': snicstats(isup=True, duplex=<NicDuplex.NIC_DUPLEX_UNKNOWN: 0>, speed=0, mtu=1484, flags='up,broadcast,running,promisc,multicast,simplex'),\n",
       " 'llw0': snicstats(isup=True, duplex=<NicDuplex.NIC_DUPLEX_UNKNOWN: 0>, speed=0, mtu=1500, flags='up,broadcast,notrailers,running,multicast,simplex'),\n",
       " 'utun0': snicstats(isup=True, duplex=<NicDuplex.NIC_DUPLEX_UNKNOWN: 0>, speed=0, mtu=1380, flags='up,pointopoint,running,multicast'),\n",
       " 'utun1': snicstats(isup=True, duplex=<NicDuplex.NIC_DUPLEX_UNKNOWN: 0>, speed=0, mtu=2000, flags='up,pointopoint,running,multicast'),\n",
       " 'utun2': snicstats(isup=True, duplex=<NicDuplex.NIC_DUPLEX_UNKNOWN: 0>, speed=0, mtu=1000, flags='up,pointopoint,running,multicast'),\n",
       " 'utun3': snicstats(isup=True, duplex=<NicDuplex.NIC_DUPLEX_UNKNOWN: 0>, speed=0, mtu=1380, flags='up,pointopoint,running,multicast'),\n",
       " 'utun4': snicstats(isup=True, duplex=<NicDuplex.NIC_DUPLEX_UNKNOWN: 0>, speed=0, mtu=1380, flags='up,pointopoint,running,multicast')}"
      ]
     },
     "execution_count": 16,
     "metadata": {},
     "output_type": "execute_result"
    }
   ],
   "source": [
    "psutil.net_if_stats()# 获取网络接口状态"
   ]
  },
  {
   "cell_type": "markdown",
   "metadata": {},
   "source": [
    "要获取当前网络连接信息，使用net_connections()："
   ]
  },
  {
   "cell_type": "code",
   "execution_count": 17,
   "metadata": {},
   "outputs": [
    {
     "ename": "AccessDenied",
     "evalue": "(pid=20593)",
     "output_type": "error",
     "traceback": [
      "\u001b[0;31m---------------------------------------------------------------------------\u001b[0m",
      "\u001b[0;31mPermissionError\u001b[0m                           Traceback (most recent call last)",
      "File \u001b[0;32m~/opt/anaconda3/envs/netsun/lib/python3.9/site-packages/psutil/_psosx.py:346\u001b[0m, in \u001b[0;36mwrap_exceptions.<locals>.wrapper\u001b[0;34m(self, *args, **kwargs)\u001b[0m\n\u001b[1;32m    345\u001b[0m \u001b[39mtry\u001b[39;00m:\n\u001b[0;32m--> 346\u001b[0m     \u001b[39mreturn\u001b[39;00m fun(\u001b[39mself\u001b[39;49m, \u001b[39m*\u001b[39;49margs, \u001b[39m*\u001b[39;49m\u001b[39m*\u001b[39;49mkwargs)\n\u001b[1;32m    347\u001b[0m \u001b[39mexcept\u001b[39;00m \u001b[39mProcessLookupError\u001b[39;00m:\n",
      "File \u001b[0;32m~/opt/anaconda3/envs/netsun/lib/python3.9/site-packages/psutil/_psosx.py:503\u001b[0m, in \u001b[0;36mProcess.connections\u001b[0;34m(self, kind)\u001b[0m\n\u001b[1;32m    502\u001b[0m families, types \u001b[39m=\u001b[39m conn_tmap[kind]\n\u001b[0;32m--> 503\u001b[0m rawlist \u001b[39m=\u001b[39m cext\u001b[39m.\u001b[39;49mproc_connections(\u001b[39mself\u001b[39;49m\u001b[39m.\u001b[39;49mpid, families, types)\n\u001b[1;32m    504\u001b[0m ret \u001b[39m=\u001b[39m []\n",
      "\u001b[0;31mPermissionError\u001b[0m: [Errno 1] Operation not permitted (originated from proc_pidinfo(PROC_PIDLISTFDS) 1/2)",
      "\nDuring handling of the above exception, another exception occurred:\n",
      "\u001b[0;31mAccessDenied\u001b[0m                              Traceback (most recent call last)",
      "Cell \u001b[0;32mIn[17], line 1\u001b[0m\n\u001b[0;32m----> 1\u001b[0m psutil\u001b[39m.\u001b[39;49mnet_connections()\n",
      "File \u001b[0;32m~/opt/anaconda3/envs/netsun/lib/python3.9/site-packages/psutil/__init__.py:2163\u001b[0m, in \u001b[0;36mnet_connections\u001b[0;34m(kind)\u001b[0m\n\u001b[1;32m   2137\u001b[0m \u001b[39mdef\u001b[39;00m \u001b[39mnet_connections\u001b[39m(kind\u001b[39m=\u001b[39m\u001b[39m'\u001b[39m\u001b[39minet\u001b[39m\u001b[39m'\u001b[39m):\n\u001b[1;32m   2138\u001b[0m \u001b[39m    \u001b[39m\u001b[39m\"\"\"Return system-wide socket connections as a list of\u001b[39;00m\n\u001b[1;32m   2139\u001b[0m \u001b[39m    (fd, family, type, laddr, raddr, status, pid) namedtuples.\u001b[39;00m\n\u001b[1;32m   2140\u001b[0m \u001b[39m    In case of limited privileges 'fd' and 'pid' may be set to -1\u001b[39;00m\n\u001b[0;32m   (...)\u001b[0m\n\u001b[1;32m   2161\u001b[0m \u001b[39m    On macOS this function requires root privileges.\u001b[39;00m\n\u001b[1;32m   2162\u001b[0m \u001b[39m    \"\"\"\u001b[39;00m\n\u001b[0;32m-> 2163\u001b[0m     \u001b[39mreturn\u001b[39;00m _psplatform\u001b[39m.\u001b[39;49mnet_connections(kind)\n",
      "File \u001b[0;32m~/opt/anaconda3/envs/netsun/lib/python3.9/site-packages/psutil/_psosx.py:248\u001b[0m, in \u001b[0;36mnet_connections\u001b[0;34m(kind)\u001b[0m\n\u001b[1;32m    246\u001b[0m \u001b[39mfor\u001b[39;00m pid \u001b[39min\u001b[39;00m pids():\n\u001b[1;32m    247\u001b[0m     \u001b[39mtry\u001b[39;00m:\n\u001b[0;32m--> 248\u001b[0m         cons \u001b[39m=\u001b[39m Process(pid)\u001b[39m.\u001b[39;49mconnections(kind)\n\u001b[1;32m    249\u001b[0m     \u001b[39mexcept\u001b[39;00m NoSuchProcess:\n\u001b[1;32m    250\u001b[0m         \u001b[39mcontinue\u001b[39;00m\n",
      "File \u001b[0;32m~/opt/anaconda3/envs/netsun/lib/python3.9/site-packages/psutil/_psosx.py:353\u001b[0m, in \u001b[0;36mwrap_exceptions.<locals>.wrapper\u001b[0;34m(self, *args, **kwargs)\u001b[0m\n\u001b[1;32m    351\u001b[0m         \u001b[39mraise\u001b[39;00m NoSuchProcess(\u001b[39mself\u001b[39m\u001b[39m.\u001b[39mpid, \u001b[39mself\u001b[39m\u001b[39m.\u001b[39m_name)\n\u001b[1;32m    352\u001b[0m \u001b[39mexcept\u001b[39;00m \u001b[39mPermissionError\u001b[39;00m:\n\u001b[0;32m--> 353\u001b[0m     \u001b[39mraise\u001b[39;00m AccessDenied(\u001b[39mself\u001b[39m\u001b[39m.\u001b[39mpid, \u001b[39mself\u001b[39m\u001b[39m.\u001b[39m_name)\n\u001b[1;32m    354\u001b[0m \u001b[39mexcept\u001b[39;00m cext\u001b[39m.\u001b[39mZombieProcessError:\n\u001b[1;32m    355\u001b[0m     \u001b[39mraise\u001b[39;00m ZombieProcess(\u001b[39mself\u001b[39m\u001b[39m.\u001b[39mpid, \u001b[39mself\u001b[39m\u001b[39m.\u001b[39m_name, \u001b[39mself\u001b[39m\u001b[39m.\u001b[39m_ppid)\n",
      "\u001b[0;31mAccessDenied\u001b[0m: (pid=20593)"
     ]
    }
   ],
   "source": [
    "psutil.net_connections()"
   ]
  },
  {
   "cell_type": "markdown",
   "metadata": {},
   "source": [
    "## 获取进程信息"
   ]
  },
  {
   "cell_type": "code",
   "execution_count": 18,
   "metadata": {},
   "outputs": [
    {
     "data": {
      "text/plain": [
       "[0,\n",
       " 1,\n",
       " 86,\n",
       " 87,\n",
       " 90,\n",
       " 91,\n",
       " 92,\n",
       " 93,\n",
       " 96,\n",
       " 97,\n",
       " 98,\n",
       " 99,\n",
       " 100,\n",
       " 104,\n",
       " 106,\n",
       " 107,\n",
       " 109,\n",
       " 113,\n",
       " 114,\n",
       " 115,\n",
       " 116,\n",
       " 119,\n",
       " 120,\n",
       " 124,\n",
       " 126,\n",
       " 127,\n",
       " 129,\n",
       " 130,\n",
       " 132,\n",
       " 133,\n",
       " 134,\n",
       " 139,\n",
       " 140,\n",
       " 142,\n",
       " 144,\n",
       " 145,\n",
       " 148,\n",
       " 149,\n",
       " 150,\n",
       " 151,\n",
       " 153,\n",
       " 154,\n",
       " 155,\n",
       " 156,\n",
       " 157,\n",
       " 158,\n",
       " 159,\n",
       " 160,\n",
       " 161,\n",
       " 162,\n",
       " 163,\n",
       " 164,\n",
       " 165,\n",
       " 166,\n",
       " 168,\n",
       " 169,\n",
       " 170,\n",
       " 171,\n",
       " 172,\n",
       " 175,\n",
       " 177,\n",
       " 189,\n",
       " 191,\n",
       " 193,\n",
       " 194,\n",
       " 195,\n",
       " 196,\n",
       " 197,\n",
       " 198,\n",
       " 199,\n",
       " 200,\n",
       " 201,\n",
       " 202,\n",
       " 225,\n",
       " 246,\n",
       " 248,\n",
       " 249,\n",
       " 254,\n",
       " 256,\n",
       " 257,\n",
       " 258,\n",
       " 259,\n",
       " 261,\n",
       " 262,\n",
       " 263,\n",
       " 264,\n",
       " 289,\n",
       " 291,\n",
       " 292,\n",
       " 295,\n",
       " 298,\n",
       " 300,\n",
       " 301,\n",
       " 303,\n",
       " 304,\n",
       " 305,\n",
       " 309,\n",
       " 310,\n",
       " 312,\n",
       " 313,\n",
       " 315,\n",
       " 316,\n",
       " 317,\n",
       " 318,\n",
       " 319,\n",
       " 320,\n",
       " 321,\n",
       " 324,\n",
       " 328,\n",
       " 329,\n",
       " 335,\n",
       " 341,\n",
       " 347,\n",
       " 348,\n",
       " 350,\n",
       " 352,\n",
       " 353,\n",
       " 354,\n",
       " 355,\n",
       " 356,\n",
       " 357,\n",
       " 358,\n",
       " 360,\n",
       " 361,\n",
       " 362,\n",
       " 366,\n",
       " 368,\n",
       " 369,\n",
       " 370,\n",
       " 371,\n",
       " 372,\n",
       " 373,\n",
       " 376,\n",
       " 377,\n",
       " 381,\n",
       " 385,\n",
       " 387,\n",
       " 388,\n",
       " 389,\n",
       " 390,\n",
       " 391,\n",
       " 394,\n",
       " 395,\n",
       " 396,\n",
       " 397,\n",
       " 398,\n",
       " 399,\n",
       " 400,\n",
       " 403,\n",
       " 404,\n",
       " 405,\n",
       " 406,\n",
       " 407,\n",
       " 409,\n",
       " 410,\n",
       " 411,\n",
       " 412,\n",
       " 413,\n",
       " 414,\n",
       " 415,\n",
       " 416,\n",
       " 417,\n",
       " 418,\n",
       " 419,\n",
       " 420,\n",
       " 421,\n",
       " 422,\n",
       " 424,\n",
       " 425,\n",
       " 426,\n",
       " 427,\n",
       " 428,\n",
       " 429,\n",
       " 430,\n",
       " 431,\n",
       " 432,\n",
       " 433,\n",
       " 434,\n",
       " 435,\n",
       " 436,\n",
       " 438,\n",
       " 440,\n",
       " 441,\n",
       " 442,\n",
       " 443,\n",
       " 444,\n",
       " 445,\n",
       " 446,\n",
       " 447,\n",
       " 448,\n",
       " 449,\n",
       " 450,\n",
       " 451,\n",
       " 452,\n",
       " 453,\n",
       " 454,\n",
       " 456,\n",
       " 458,\n",
       " 463,\n",
       " 465,\n",
       " 466,\n",
       " 469,\n",
       " 472,\n",
       " 474,\n",
       " 475,\n",
       " 476,\n",
       " 477,\n",
       " 478,\n",
       " 480,\n",
       " 482,\n",
       " 483,\n",
       " 485,\n",
       " 486,\n",
       " 487,\n",
       " 488,\n",
       " 489,\n",
       " 490,\n",
       " 491,\n",
       " 492,\n",
       " 493,\n",
       " 494,\n",
       " 495,\n",
       " 496,\n",
       " 497,\n",
       " 498,\n",
       " 499,\n",
       " 500,\n",
       " 501,\n",
       " 502,\n",
       " 503,\n",
       " 504,\n",
       " 505,\n",
       " 506,\n",
       " 507,\n",
       " 508,\n",
       " 509,\n",
       " 510,\n",
       " 511,\n",
       " 512,\n",
       " 513,\n",
       " 514,\n",
       " 516,\n",
       " 517,\n",
       " 519,\n",
       " 520,\n",
       " 523,\n",
       " 524,\n",
       " 525,\n",
       " 527,\n",
       " 528,\n",
       " 529,\n",
       " 530,\n",
       " 531,\n",
       " 532,\n",
       " 533,\n",
       " 534,\n",
       " 535,\n",
       " 536,\n",
       " 537,\n",
       " 538,\n",
       " 539,\n",
       " 540,\n",
       " 541,\n",
       " 542,\n",
       " 544,\n",
       " 545,\n",
       " 546,\n",
       " 547,\n",
       " 548,\n",
       " 549,\n",
       " 553,\n",
       " 554,\n",
       " 555,\n",
       " 556,\n",
       " 557,\n",
       " 558,\n",
       " 559,\n",
       " 560,\n",
       " 561,\n",
       " 563,\n",
       " 564,\n",
       " 579,\n",
       " 590,\n",
       " 619,\n",
       " 630,\n",
       " 631,\n",
       " 633,\n",
       " 634,\n",
       " 637,\n",
       " 639,\n",
       " 640,\n",
       " 641,\n",
       " 642,\n",
       " 643,\n",
       " 645,\n",
       " 647,\n",
       " 649,\n",
       " 650,\n",
       " 651,\n",
       " 652,\n",
       " 653,\n",
       " 654,\n",
       " 655,\n",
       " 656,\n",
       " 657,\n",
       " 658,\n",
       " 659,\n",
       " 660,\n",
       " 661,\n",
       " 662,\n",
       " 663,\n",
       " 664,\n",
       " 665,\n",
       " 666,\n",
       " 667,\n",
       " 668,\n",
       " 671,\n",
       " 672,\n",
       " 673,\n",
       " 677,\n",
       " 682,\n",
       " 683,\n",
       " 684,\n",
       " 686,\n",
       " 687,\n",
       " 688,\n",
       " 691,\n",
       " 693,\n",
       " 697,\n",
       " 698,\n",
       " 701,\n",
       " 702,\n",
       " 703,\n",
       " 705,\n",
       " 710,\n",
       " 711,\n",
       " 712,\n",
       " 713,\n",
       " 714,\n",
       " 715,\n",
       " 716,\n",
       " 717,\n",
       " 718,\n",
       " 719,\n",
       " 724,\n",
       " 725,\n",
       " 726,\n",
       " 727,\n",
       " 729,\n",
       " 733,\n",
       " 740,\n",
       " 742,\n",
       " 746,\n",
       " 751,\n",
       " 753,\n",
       " 757,\n",
       " 759,\n",
       " 761,\n",
       " 764,\n",
       " 766,\n",
       " 805,\n",
       " 806,\n",
       " 807,\n",
       " 811,\n",
       " 850,\n",
       " 884,\n",
       " 885,\n",
       " 889,\n",
       " 910,\n",
       " 924,\n",
       " 925,\n",
       " 986,\n",
       " 989,\n",
       " 1054,\n",
       " 1056,\n",
       " 1057,\n",
       " 1058,\n",
       " 1059,\n",
       " 1060,\n",
       " 1100,\n",
       " 1212,\n",
       " 1213,\n",
       " 1275,\n",
       " 1373,\n",
       " 1376,\n",
       " 1377,\n",
       " 1384,\n",
       " 1387,\n",
       " 1458,\n",
       " 1459,\n",
       " 1470,\n",
       " 1482,\n",
       " 1483,\n",
       " 1776,\n",
       " 2168,\n",
       " 2169,\n",
       " 2170,\n",
       " 2177,\n",
       " 2459,\n",
       " 2701,\n",
       " 2750,\n",
       " 3043,\n",
       " 3556,\n",
       " 3557,\n",
       " 4083,\n",
       " 4103,\n",
       " 4119,\n",
       " 4302,\n",
       " 4481,\n",
       " 4484,\n",
       " 4781,\n",
       " 4995,\n",
       " 5147,\n",
       " 5148,\n",
       " 5151,\n",
       " 5152,\n",
       " 5153,\n",
       " 5154,\n",
       " 5155,\n",
       " 5156,\n",
       " 5178,\n",
       " 5967,\n",
       " 6312,\n",
       " 7072,\n",
       " 7081,\n",
       " 7189,\n",
       " 7800,\n",
       " 8415,\n",
       " 8417,\n",
       " 8421,\n",
       " 8423,\n",
       " 8501,\n",
       " 8502,\n",
       " 8517,\n",
       " 8658,\n",
       " 8664,\n",
       " 8665,\n",
       " 8666,\n",
       " 8667,\n",
       " 8668,\n",
       " 8669,\n",
       " 8670,\n",
       " 8671,\n",
       " 8672,\n",
       " 8673,\n",
       " 8674,\n",
       " 8676,\n",
       " 8678,\n",
       " 8681,\n",
       " 8722,\n",
       " 8723,\n",
       " 8816,\n",
       " 8873,\n",
       " 9176,\n",
       " 9208,\n",
       " 9236,\n",
       " 9794,\n",
       " 11735,\n",
       " 12214,\n",
       " 12790,\n",
       " 12791,\n",
       " 12934,\n",
       " 12941,\n",
       " 12945,\n",
       " 12952,\n",
       " 13142,\n",
       " 13594,\n",
       " 13842,\n",
       " 14701,\n",
       " 14709,\n",
       " 14710,\n",
       " 14723,\n",
       " 16354,\n",
       " 16372,\n",
       " 16375,\n",
       " 16377,\n",
       " 16468,\n",
       " 16482,\n",
       " 16523,\n",
       " 16524,\n",
       " 16639,\n",
       " 16653,\n",
       " 16654,\n",
       " 16778,\n",
       " 16779,\n",
       " 17987,\n",
       " 18068,\n",
       " 18647,\n",
       " 18659,\n",
       " 18660,\n",
       " 18661,\n",
       " 18665,\n",
       " 18764,\n",
       " 18778,\n",
       " 18780,\n",
       " 18781,\n",
       " 18789,\n",
       " 18792,\n",
       " 18798,\n",
       " 18802,\n",
       " 18841,\n",
       " 18896,\n",
       " 18900,\n",
       " 18906,\n",
       " 18944,\n",
       " 19066,\n",
       " 19147,\n",
       " 19264,\n",
       " 19365,\n",
       " 19539,\n",
       " 19575,\n",
       " 19590,\n",
       " 19600,\n",
       " 19601,\n",
       " 19695,\n",
       " 19704,\n",
       " 19705,\n",
       " 19706,\n",
       " 19713,\n",
       " 19714,\n",
       " 19721,\n",
       " 19722,\n",
       " 19723,\n",
       " 19758,\n",
       " 19782,\n",
       " 20512,\n",
       " 20604,\n",
       " 20605,\n",
       " 20661]"
      ]
     },
     "execution_count": 18,
     "metadata": {},
     "output_type": "execute_result"
    }
   ],
   "source": [
    "# 通过psutil可以获取到所有进程的详细信息\n",
    "psutil.pids() # 所有进程ID"
   ]
  },
  {
   "cell_type": "code",
   "execution_count": 20,
   "metadata": {},
   "outputs": [
    {
     "data": {
      "text/plain": [
       "'mdworker_shared'"
      ]
     },
     "execution_count": 20,
     "metadata": {},
     "output_type": "execute_result"
    }
   ],
   "source": [
    "p = psutil.Process(20604)\n",
    "p.name() # 进程名称"
   ]
  },
  {
   "cell_type": "code",
   "execution_count": 21,
   "metadata": {},
   "outputs": [
    {
     "data": {
      "text/plain": [
       "'/System/Library/Frameworks/CoreServices.framework/Versions/A/Frameworks/Metadata.framework/Versions/A/Support/mdworker_shared'"
      ]
     },
     "execution_count": 21,
     "metadata": {},
     "output_type": "execute_result"
    }
   ],
   "source": [
    "p.exe() #进程exe路径"
   ]
  },
  {
   "cell_type": "code",
   "execution_count": 22,
   "metadata": {},
   "outputs": [
    {
     "data": {
      "text/plain": [
       "'/'"
      ]
     },
     "execution_count": 22,
     "metadata": {},
     "output_type": "execute_result"
    }
   ],
   "source": [
    "p.cwd() # 进程工作目录"
   ]
  },
  {
   "cell_type": "code",
   "execution_count": 23,
   "metadata": {},
   "outputs": [
    {
     "data": {
      "text/plain": [
       "['/System/Library/Frameworks/CoreServices.framework/Frameworks/Metadata.framework/Versions/A/Support/mdworker_shared',\n",
       " '-s',\n",
       " 'mdworker',\n",
       " '-c',\n",
       " 'MDSImporterWorker',\n",
       " '-m',\n",
       " 'com.apple.mdworker.shared']"
      ]
     },
     "execution_count": 23,
     "metadata": {},
     "output_type": "execute_result"
    }
   ],
   "source": [
    "p.cmdline()  # 进程启动的命令行"
   ]
  },
  {
   "cell_type": "code",
   "execution_count": 24,
   "metadata": {},
   "outputs": [
    {
     "data": {
      "text/plain": [
       "1"
      ]
     },
     "execution_count": 24,
     "metadata": {},
     "output_type": "execute_result"
    }
   ],
   "source": [
    "p.ppid() # 父进程ID"
   ]
  },
  {
   "cell_type": "code",
   "execution_count": 25,
   "metadata": {},
   "outputs": [
    {
     "data": {
      "text/plain": [
       "psutil.Process(pid=1, name='launchd', status='running', started='09:19:33')"
      ]
     },
     "execution_count": 25,
     "metadata": {},
     "output_type": "execute_result"
    }
   ],
   "source": [
    "p.parent() # 父进程"
   ]
  },
  {
   "cell_type": "code",
   "execution_count": 26,
   "metadata": {},
   "outputs": [
    {
     "data": {
      "text/plain": [
       "[]"
      ]
     },
     "execution_count": 26,
     "metadata": {},
     "output_type": "execute_result"
    }
   ],
   "source": [
    "p.children() # 子进程列表"
   ]
  },
  {
   "cell_type": "code",
   "execution_count": 27,
   "metadata": {},
   "outputs": [
    {
     "data": {
      "text/plain": [
       "'running'"
      ]
     },
     "execution_count": 27,
     "metadata": {},
     "output_type": "execute_result"
    }
   ],
   "source": [
    "p.status() # 进程状态"
   ]
  },
  {
   "cell_type": "code",
   "execution_count": 28,
   "metadata": {},
   "outputs": [
    {
     "data": {
      "text/plain": [
       "'yangbaiyinnamula'"
      ]
     },
     "execution_count": 28,
     "metadata": {},
     "output_type": "execute_result"
    }
   ],
   "source": [
    "p.username() # 进程用户名"
   ]
  },
  {
   "cell_type": "code",
   "execution_count": 29,
   "metadata": {},
   "outputs": [
    {
     "data": {
      "text/plain": [
       "1691674470.397605"
      ]
     },
     "execution_count": 29,
     "metadata": {},
     "output_type": "execute_result"
    }
   ],
   "source": [
    "p.create_time() # 进程创建时间"
   ]
  },
  {
   "cell_type": "code",
   "execution_count": 30,
   "metadata": {},
   "outputs": [],
   "source": [
    "p.terminal() # 进程终端"
   ]
  },
  {
   "cell_type": "code",
   "execution_count": 31,
   "metadata": {},
   "outputs": [
    {
     "data": {
      "text/plain": [
       "pcputimes(user=1.168733056, system=0.422658944, children_user=0.0, children_system=0.0)"
      ]
     },
     "execution_count": 31,
     "metadata": {},
     "output_type": "execute_result"
    }
   ],
   "source": [
    "p.cpu_times() # 进程使用的CPU时间"
   ]
  },
  {
   "cell_type": "code",
   "execution_count": 32,
   "metadata": {},
   "outputs": [
    {
     "data": {
      "text/plain": [
       "pmem(rss=15642624, vms=34476855296, pfaults=99053, pageins=0)"
      ]
     },
     "execution_count": 32,
     "metadata": {},
     "output_type": "execute_result"
    }
   ],
   "source": [
    "p.memory_info() # 进程使用的内存"
   ]
  },
  {
   "cell_type": "code",
   "execution_count": 33,
   "metadata": {},
   "outputs": [
    {
     "data": {
      "text/plain": [
       "[]"
      ]
     },
     "execution_count": 33,
     "metadata": {},
     "output_type": "execute_result"
    }
   ],
   "source": [
    "p.open_files() # 进程打开的文件"
   ]
  },
  {
   "cell_type": "code",
   "execution_count": 34,
   "metadata": {},
   "outputs": [
    {
     "data": {
      "text/plain": [
       "[]"
      ]
     },
     "execution_count": 34,
     "metadata": {},
     "output_type": "execute_result"
    }
   ],
   "source": [
    "p.connections() # 进程相关网络连接"
   ]
  },
  {
   "cell_type": "code",
   "execution_count": 35,
   "metadata": {},
   "outputs": [
    {
     "data": {
      "text/plain": [
       "4"
      ]
     },
     "execution_count": 35,
     "metadata": {},
     "output_type": "execute_result"
    }
   ],
   "source": [
    "p.num_threads()  # 进程的线程数量"
   ]
  },
  {
   "cell_type": "code",
   "execution_count": 36,
   "metadata": {},
   "outputs": [
    {
     "ename": "AccessDenied",
     "evalue": "(pid=20604, name='mdworker_shared')",
     "output_type": "error",
     "traceback": [
      "\u001b[0;31m---------------------------------------------------------------------------\u001b[0m",
      "\u001b[0;31mPermissionError\u001b[0m                           Traceback (most recent call last)",
      "File \u001b[0;32m~/opt/anaconda3/envs/netsun/lib/python3.9/site-packages/psutil/_psosx.py:346\u001b[0m, in \u001b[0;36mwrap_exceptions.<locals>.wrapper\u001b[0;34m(self, *args, **kwargs)\u001b[0m\n\u001b[1;32m    345\u001b[0m \u001b[39mtry\u001b[39;00m:\n\u001b[0;32m--> 346\u001b[0m     \u001b[39mreturn\u001b[39;00m fun(\u001b[39mself\u001b[39;49m, \u001b[39m*\u001b[39;49margs, \u001b[39m*\u001b[39;49m\u001b[39m*\u001b[39;49mkwargs)\n\u001b[1;32m    347\u001b[0m \u001b[39mexcept\u001b[39;00m \u001b[39mProcessLookupError\u001b[39;00m:\n",
      "File \u001b[0;32m~/opt/anaconda3/envs/netsun/lib/python3.9/site-packages/psutil/_psosx.py:538\u001b[0m, in \u001b[0;36mProcess.threads\u001b[0;34m(self)\u001b[0m\n\u001b[1;32m    536\u001b[0m \u001b[39m@wrap_exceptions\u001b[39m\n\u001b[1;32m    537\u001b[0m \u001b[39mdef\u001b[39;00m \u001b[39mthreads\u001b[39m(\u001b[39mself\u001b[39m):\n\u001b[0;32m--> 538\u001b[0m     rawlist \u001b[39m=\u001b[39m cext\u001b[39m.\u001b[39;49mproc_threads(\u001b[39mself\u001b[39;49m\u001b[39m.\u001b[39;49mpid)\n\u001b[1;32m    539\u001b[0m     retlist \u001b[39m=\u001b[39m []\n",
      "\u001b[0;31mPermissionError\u001b[0m: [Errno 13] assume access denied (originated from task_for_pid)",
      "\nDuring handling of the above exception, another exception occurred:\n",
      "\u001b[0;31mAccessDenied\u001b[0m                              Traceback (most recent call last)",
      "Cell \u001b[0;32mIn[36], line 1\u001b[0m\n\u001b[0;32m----> 1\u001b[0m p\u001b[39m.\u001b[39;49mthreads() \u001b[39m# 所有线程信息\u001b[39;00m\n",
      "File \u001b[0;32m~/opt/anaconda3/envs/netsun/lib/python3.9/site-packages/psutil/__init__.py:879\u001b[0m, in \u001b[0;36mProcess.threads\u001b[0;34m(self)\u001b[0m\n\u001b[1;32m    873\u001b[0m \u001b[39mdef\u001b[39;00m \u001b[39mthreads\u001b[39m(\u001b[39mself\u001b[39m):\n\u001b[1;32m    874\u001b[0m \u001b[39m    \u001b[39m\u001b[39m\"\"\"Return threads opened by process as a list of\u001b[39;00m\n\u001b[1;32m    875\u001b[0m \u001b[39m    (id, user_time, system_time) namedtuples representing\u001b[39;00m\n\u001b[1;32m    876\u001b[0m \u001b[39m    thread id and thread CPU times (user/system).\u001b[39;00m\n\u001b[1;32m    877\u001b[0m \u001b[39m    On OpenBSD this method requires root access.\u001b[39;00m\n\u001b[1;32m    878\u001b[0m \u001b[39m    \"\"\"\u001b[39;00m\n\u001b[0;32m--> 879\u001b[0m     \u001b[39mreturn\u001b[39;00m \u001b[39mself\u001b[39;49m\u001b[39m.\u001b[39;49m_proc\u001b[39m.\u001b[39;49mthreads()\n",
      "File \u001b[0;32m~/opt/anaconda3/envs/netsun/lib/python3.9/site-packages/psutil/_psosx.py:353\u001b[0m, in \u001b[0;36mwrap_exceptions.<locals>.wrapper\u001b[0;34m(self, *args, **kwargs)\u001b[0m\n\u001b[1;32m    351\u001b[0m         \u001b[39mraise\u001b[39;00m NoSuchProcess(\u001b[39mself\u001b[39m\u001b[39m.\u001b[39mpid, \u001b[39mself\u001b[39m\u001b[39m.\u001b[39m_name)\n\u001b[1;32m    352\u001b[0m \u001b[39mexcept\u001b[39;00m \u001b[39mPermissionError\u001b[39;00m:\n\u001b[0;32m--> 353\u001b[0m     \u001b[39mraise\u001b[39;00m AccessDenied(\u001b[39mself\u001b[39m\u001b[39m.\u001b[39mpid, \u001b[39mself\u001b[39m\u001b[39m.\u001b[39m_name)\n\u001b[1;32m    354\u001b[0m \u001b[39mexcept\u001b[39;00m cext\u001b[39m.\u001b[39mZombieProcessError:\n\u001b[1;32m    355\u001b[0m     \u001b[39mraise\u001b[39;00m ZombieProcess(\u001b[39mself\u001b[39m\u001b[39m.\u001b[39mpid, \u001b[39mself\u001b[39m\u001b[39m.\u001b[39m_name, \u001b[39mself\u001b[39m\u001b[39m.\u001b[39m_ppid)\n",
      "\u001b[0;31mAccessDenied\u001b[0m: (pid=20604, name='mdworker_shared')"
     ]
    }
   ],
   "source": [
    "p.threads() # 所有线程信息"
   ]
  },
  {
   "cell_type": "markdown",
   "metadata": {},
   "source": [
    "## 小结"
   ]
  },
  {
   "cell_type": "markdown",
   "metadata": {},
   "source": [
    "psutil使得Python程序获取系统信息变得易如反掌。\n",
    "\n",
    "psutil还可以获取用户信息、Windows服务等很多有用的系统信息，具体请参考psutil的官网：https://github.com/giampaolo/psutil"
   ]
  }
 ],
 "metadata": {
  "kernelspec": {
   "display_name": "netsun",
   "language": "python",
   "name": "python3"
  },
  "language_info": {
   "codemirror_mode": {
    "name": "ipython",
    "version": 3
   },
   "file_extension": ".py",
   "mimetype": "text/x-python",
   "name": "python",
   "nbconvert_exporter": "python",
   "pygments_lexer": "ipython3",
   "version": "3.9.15"
  },
  "orig_nbformat": 4
 },
 "nbformat": 4,
 "nbformat_minor": 2
}
