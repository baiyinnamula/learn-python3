{
 "cells": [
  {
   "cell_type": "markdown",
   "metadata": {},
   "source": [
    "# 使用MySQL"
   ]
  },
  {
   "cell_type": "markdown",
   "metadata": {},
   "source": [
    "## 安装 MySQL"
   ]
  },
  {
   "cell_type": "markdown",
   "metadata": {},
   "source": [
    "MySQL是Web世界中使用最广泛的数据库服务器。SQLite的特点是轻量级、可嵌入，但不能承受高并发访问，适合桌面和移动应用。而MySQL是为服务器端设计的数据库，能承受高并发访问，同时占用的内存也远远大于SQLite。\n",
    "\n",
    "此外，MySQL内部有多种数据库引擎，最常用的引擎是支持数据库事务的InnoDB。"
   ]
  },
  {
   "cell_type": "markdown",
   "metadata": {},
   "source": [
    "## 安装MySQL驱动"
   ]
  },
  {
   "cell_type": "markdown",
   "metadata": {},
   "source": [
    "```bash\n",
    "$ pip install mysql-connector\n",
    "\n",
    "```"
   ]
  },
  {
   "cell_type": "code",
   "execution_count": 3,
   "metadata": {},
   "outputs": [
    {
     "name": "stdout",
     "output_type": "stream",
     "text": [
      "1\n",
      "[('1', 'Michael')]\n"
     ]
    }
   ],
   "source": [
    "# 导入MySQL驱动:\n",
    "import mysql.connector\n",
    "\n",
    "# 注意把password设为你的root口令:\n",
    "conn = mysql.connector.connect(user='root', password='root', database='test')\n",
    "cursor = conn.cursor()\n",
    "# 创建user表:\n",
    "cursor.execute('create table user (id varchar(20) primary key, name varchar(20))')\n",
    "# 插入一行记录，注意MySQL的占位符是%s:\n",
    "cursor.execute('insert into user (id, name) values (%s, %s)', ['1', 'Michael'])\n",
    "print(cursor.rowcount)\n",
    "\n",
    "# 提交事务:\n",
    "conn.commit()\n",
    "cursor.close()\n",
    "\n",
    "# 运行查询:\n",
    "cursor = conn.cursor()\n",
    "cursor.execute('select * from user where id = %s', ('1',))\n",
    "values = cursor.fetchall()\n",
    "print(values)\n",
    "\n",
    "cursor.close()\n",
    "conn.close()"
   ]
  },
  {
   "cell_type": "markdown",
   "metadata": {},
   "source": [
    "## 小结"
   ]
  },
  {
   "cell_type": "markdown",
   "metadata": {},
   "source": [
    "执行INSERT等操作后要调用commit()提交事务；\n",
    "\n",
    "MySQL的SQL占位符是%s。"
   ]
  }
 ],
 "metadata": {
  "kernelspec": {
   "display_name": "netsun",
   "language": "python",
   "name": "python3"
  },
  "language_info": {
   "codemirror_mode": {
    "name": "ipython",
    "version": 3
   },
   "file_extension": ".py",
   "mimetype": "text/x-python",
   "name": "python",
   "nbconvert_exporter": "python",
   "pygments_lexer": "ipython3",
   "version": "3.9.15"
  },
  "orig_nbformat": 4
 },
 "nbformat": 4,
 "nbformat_minor": 2
}
